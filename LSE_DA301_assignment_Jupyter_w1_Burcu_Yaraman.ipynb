{
 "cells": [
  {
   "cell_type": "code",
   "execution_count": 2,
   "id": "f60a3071",
   "metadata": {},
   "outputs": [],
   "source": [
    "#import all the necessary packages\n",
    "import numpy as np\n",
    "import pandas as pd\n",
    "import seaborn as sns\n",
    "import matplotlib.pyplot as plt\n",
    "import statsmodels.api as sm\n",
    "import sklearn\n",
    "\n",
    "from sklearn import datasets \n",
    "from sklearn import linear_model\n",
    "from sklearn.model_selection import train_test_split\n",
    "from sklearn import metrics\n",
    "from sklearn.linear_model import LinearRegression\n",
    "from statsmodels.formula.api import ols"
   ]
  },
  {
   "cell_type": "code",
   "execution_count": 3,
   "id": "e4465b8e",
   "metadata": {},
   "outputs": [
    {
     "data": {
      "text/html": [
       "<div>\n",
       "<style scoped>\n",
       "    .dataframe tbody tr th:only-of-type {\n",
       "        vertical-align: middle;\n",
       "    }\n",
       "\n",
       "    .dataframe tbody tr th {\n",
       "        vertical-align: top;\n",
       "    }\n",
       "\n",
       "    .dataframe thead th {\n",
       "        text-align: right;\n",
       "    }\n",
       "</style>\n",
       "<table border=\"1\" class=\"dataframe\">\n",
       "  <thead>\n",
       "    <tr style=\"text-align: right;\">\n",
       "      <th></th>\n",
       "      <th>ages</th>\n",
       "      <th>list_price</th>\n",
       "      <th>num_reviews</th>\n",
       "      <th>piece_count</th>\n",
       "      <th>play_star_rating</th>\n",
       "      <th>review_difficulty</th>\n",
       "      <th>country</th>\n",
       "    </tr>\n",
       "  </thead>\n",
       "  <tbody>\n",
       "    <tr>\n",
       "      <th>0</th>\n",
       "      <td>19</td>\n",
       "      <td>29.99</td>\n",
       "      <td>2</td>\n",
       "      <td>277</td>\n",
       "      <td>4.0</td>\n",
       "      <td>0</td>\n",
       "      <td>20</td>\n",
       "    </tr>\n",
       "    <tr>\n",
       "      <th>1</th>\n",
       "      <td>19</td>\n",
       "      <td>19.99</td>\n",
       "      <td>2</td>\n",
       "      <td>168</td>\n",
       "      <td>4.0</td>\n",
       "      <td>2</td>\n",
       "      <td>20</td>\n",
       "    </tr>\n",
       "    <tr>\n",
       "      <th>2</th>\n",
       "      <td>19</td>\n",
       "      <td>12.99</td>\n",
       "      <td>11</td>\n",
       "      <td>74</td>\n",
       "      <td>4.3</td>\n",
       "      <td>2</td>\n",
       "      <td>20</td>\n",
       "    </tr>\n",
       "    <tr>\n",
       "      <th>3</th>\n",
       "      <td>5</td>\n",
       "      <td>99.99</td>\n",
       "      <td>23</td>\n",
       "      <td>1032</td>\n",
       "      <td>3.6</td>\n",
       "      <td>0</td>\n",
       "      <td>20</td>\n",
       "    </tr>\n",
       "    <tr>\n",
       "      <th>4</th>\n",
       "      <td>5</td>\n",
       "      <td>79.99</td>\n",
       "      <td>14</td>\n",
       "      <td>744</td>\n",
       "      <td>3.2</td>\n",
       "      <td>1</td>\n",
       "      <td>20</td>\n",
       "    </tr>\n",
       "  </tbody>\n",
       "</table>\n",
       "</div>"
      ],
      "text/plain": [
       "   ages  list_price  num_reviews  piece_count  play_star_rating  \\\n",
       "0    19       29.99            2          277               4.0   \n",
       "1    19       19.99            2          168               4.0   \n",
       "2    19       12.99           11           74               4.3   \n",
       "3     5       99.99           23         1032               3.6   \n",
       "4     5       79.99           14          744               3.2   \n",
       "\n",
       "   review_difficulty  country  \n",
       "0                  0       20  \n",
       "1                  2       20  \n",
       "2                  2       20  \n",
       "3                  0       20  \n",
       "4                  1       20  "
      ]
     },
     "execution_count": 3,
     "metadata": {},
     "output_type": "execute_result"
    }
   ],
   "source": [
    "# import the data set\n",
    "df = pd.read_csv(\"lego.csv\")\n",
    "\n",
    "# view DataFrame\n",
    "df.head()"
   ]
  },
  {
   "cell_type": "code",
   "execution_count": 4,
   "id": "7c8efa46",
   "metadata": {},
   "outputs": [
    {
     "name": "stdout",
     "output_type": "stream",
     "text": [
      "<class 'pandas.core.frame.DataFrame'>\n",
      "RangeIndex: 12261 entries, 0 to 12260\n",
      "Data columns (total 7 columns):\n",
      " #   Column             Non-Null Count  Dtype  \n",
      "---  ------             --------------  -----  \n",
      " 0   ages               12261 non-null  int64  \n",
      " 1   list_price         12261 non-null  float64\n",
      " 2   num_reviews        12261 non-null  int64  \n",
      " 3   piece_count        12261 non-null  int64  \n",
      " 4   play_star_rating   12261 non-null  float64\n",
      " 5   review_difficulty  12261 non-null  int64  \n",
      " 6   country            12261 non-null  int64  \n",
      "dtypes: float64(2), int64(5)\n",
      "memory usage: 670.6 KB\n"
     ]
    }
   ],
   "source": [
    "df.info()"
   ]
  },
  {
   "cell_type": "markdown",
   "id": "c2a8eb5e",
   "metadata": {},
   "source": [
    "The basic summary of the data set and shows that there are 12,261 rows and six columns of data. The columns have either float or integer same data type, so these are all numerical values, and the total number of entries is defined as 12,261 and all columns have 12,261 non-null values, which means there are no null values in the data set.  "
   ]
  },
  {
   "cell_type": "code",
   "execution_count": 5,
   "id": "7c3123da",
   "metadata": {},
   "outputs": [
    {
     "data": {
      "text/html": [
       "<div>\n",
       "<style scoped>\n",
       "    .dataframe tbody tr th:only-of-type {\n",
       "        vertical-align: middle;\n",
       "    }\n",
       "\n",
       "    .dataframe tbody tr th {\n",
       "        vertical-align: top;\n",
       "    }\n",
       "\n",
       "    .dataframe thead th {\n",
       "        text-align: right;\n",
       "    }\n",
       "</style>\n",
       "<table border=\"1\" class=\"dataframe\">\n",
       "  <thead>\n",
       "    <tr style=\"text-align: right;\">\n",
       "      <th></th>\n",
       "      <th>ages</th>\n",
       "      <th>list_price</th>\n",
       "      <th>num_reviews</th>\n",
       "      <th>piece_count</th>\n",
       "      <th>play_star_rating</th>\n",
       "      <th>review_difficulty</th>\n",
       "      <th>country</th>\n",
       "    </tr>\n",
       "  </thead>\n",
       "  <tbody>\n",
       "    <tr>\n",
       "      <th>count</th>\n",
       "      <td>12261.00000</td>\n",
       "      <td>12261.000000</td>\n",
       "      <td>12261.000000</td>\n",
       "      <td>12261.000000</td>\n",
       "      <td>12261.000000</td>\n",
       "      <td>12261.000000</td>\n",
       "      <td>12261.000000</td>\n",
       "    </tr>\n",
       "    <tr>\n",
       "      <th>mean</th>\n",
       "      <td>16.68828</td>\n",
       "      <td>65.141998</td>\n",
       "      <td>14.603050</td>\n",
       "      <td>493.405921</td>\n",
       "      <td>3.709689</td>\n",
       "      <td>1.988826</td>\n",
       "      <td>10.015333</td>\n",
       "    </tr>\n",
       "    <tr>\n",
       "      <th>std</th>\n",
       "      <td>8.21868</td>\n",
       "      <td>91.980429</td>\n",
       "      <td>34.356847</td>\n",
       "      <td>825.364580</td>\n",
       "      <td>1.641130</td>\n",
       "      <td>1.787565</td>\n",
       "      <td>6.185450</td>\n",
       "    </tr>\n",
       "    <tr>\n",
       "      <th>min</th>\n",
       "      <td>0.00000</td>\n",
       "      <td>2.272400</td>\n",
       "      <td>0.000000</td>\n",
       "      <td>1.000000</td>\n",
       "      <td>0.000000</td>\n",
       "      <td>0.000000</td>\n",
       "      <td>0.000000</td>\n",
       "    </tr>\n",
       "    <tr>\n",
       "      <th>25%</th>\n",
       "      <td>11.00000</td>\n",
       "      <td>19.990000</td>\n",
       "      <td>1.000000</td>\n",
       "      <td>97.000000</td>\n",
       "      <td>3.600000</td>\n",
       "      <td>0.000000</td>\n",
       "      <td>4.000000</td>\n",
       "    </tr>\n",
       "    <tr>\n",
       "      <th>50%</th>\n",
       "      <td>19.00000</td>\n",
       "      <td>36.587800</td>\n",
       "      <td>4.000000</td>\n",
       "      <td>216.000000</td>\n",
       "      <td>4.400000</td>\n",
       "      <td>2.000000</td>\n",
       "      <td>10.000000</td>\n",
       "    </tr>\n",
       "    <tr>\n",
       "      <th>75%</th>\n",
       "      <td>23.00000</td>\n",
       "      <td>70.192200</td>\n",
       "      <td>11.000000</td>\n",
       "      <td>544.000000</td>\n",
       "      <td>4.700000</td>\n",
       "      <td>4.000000</td>\n",
       "      <td>15.000000</td>\n",
       "    </tr>\n",
       "    <tr>\n",
       "      <th>max</th>\n",
       "      <td>30.00000</td>\n",
       "      <td>1104.870000</td>\n",
       "      <td>367.000000</td>\n",
       "      <td>7541.000000</td>\n",
       "      <td>5.000000</td>\n",
       "      <td>5.000000</td>\n",
       "      <td>20.000000</td>\n",
       "    </tr>\n",
       "  </tbody>\n",
       "</table>\n",
       "</div>"
      ],
      "text/plain": [
       "              ages    list_price   num_reviews   piece_count  \\\n",
       "count  12261.00000  12261.000000  12261.000000  12261.000000   \n",
       "mean      16.68828     65.141998     14.603050    493.405921   \n",
       "std        8.21868     91.980429     34.356847    825.364580   \n",
       "min        0.00000      2.272400      0.000000      1.000000   \n",
       "25%       11.00000     19.990000      1.000000     97.000000   \n",
       "50%       19.00000     36.587800      4.000000    216.000000   \n",
       "75%       23.00000     70.192200     11.000000    544.000000   \n",
       "max       30.00000   1104.870000    367.000000   7541.000000   \n",
       "\n",
       "       play_star_rating  review_difficulty       country  \n",
       "count      12261.000000       12261.000000  12261.000000  \n",
       "mean           3.709689           1.988826     10.015333  \n",
       "std            1.641130           1.787565      6.185450  \n",
       "min            0.000000           0.000000      0.000000  \n",
       "25%            3.600000           0.000000      4.000000  \n",
       "50%            4.400000           2.000000     10.000000  \n",
       "75%            4.700000           4.000000     15.000000  \n",
       "max            5.000000           5.000000     20.000000  "
      ]
     },
     "execution_count": 5,
     "metadata": {},
     "output_type": "execute_result"
    }
   ],
   "source": [
    "df.describe()"
   ]
  },
  {
   "cell_type": "markdown",
   "id": "3fbcaa14",
   "metadata": {},
   "source": [
    "When the describe() function is used to gain more insights from the data:\n",
    "\n",
    "** for 'list_price', 'num_reviews' and 'piece_count' the max values are very high when compared to the mean and quartile figures:\n",
    "\n",
    "list_price: 75% of the values are <=70.19, the max is 1104.87\n",
    "\n",
    "piece_count: 75% of the values are <=544, the max is 7541\n",
    "\n",
    "num_reviews: 75% of the values are <=11, the max is 367\n",
    "\n",
    "With a simple calculation we could point out the possible outliers: \n",
    "Multiply the interquartile range (IQR) by 1.5 and add 1.5 (IQR) to the third quartile. \n",
    "Any number greater than this is a suspected outlier.\n",
    "\n",
    "For list_price, possible outliers lie above --> (70.19-19.99)X1.5+70.19=145.49\n",
    "\n",
    "For piece_count, possible outliers lie above --> (544-97)x1.5+544=1215.5\n",
    "\n",
    "'num_reviews' will not be used in this analysis.\n",
    "\n",
    "** definition of 'country' is number of countries the product is sold in. Hence it shouldn't take the value zero. However, the min field shows that there are rows where country value equals to zero. Similar to 'num_reviews', 'country' will not be used in this analysis hence I choose to leave it as is."
   ]
  },
  {
   "cell_type": "code",
   "execution_count": 6,
   "id": "e44cf286",
   "metadata": {},
   "outputs": [],
   "source": [
    "# distribution of list_price - check skewness\n",
    "list_price_without_outliers = df[df['list_price'] <= 145.49]"
   ]
  },
  {
   "cell_type": "code",
   "execution_count": 7,
   "id": "c61f47bf",
   "metadata": {},
   "outputs": [
    {
     "data": {
      "text/plain": [
       "<AxesSubplot:xlabel='list_price', ylabel='Count'>"
      ]
     },
     "execution_count": 7,
     "metadata": {},
     "output_type": "execute_result"
    },
    {
     "data": {
      "image/png": "[encoded data removed]",
      "text/plain": [
       "<Figure size 432x288 with 1 Axes>"
      ]
     },
     "metadata": {
      "needs_background": "light"
     },
     "output_type": "display_data"
    }
   ],
   "source": [
    "sns.histplot(data=list_price_without_outliers, x=\"list_price\", binwidth=5)"
   ]
  },
  {
   "cell_type": "markdown",
   "id": "4ce2a1a3",
   "metadata": {},
   "source": [
    "List_price data is right - skewed: A positive skew indicates that more values lie below the mean and the distribution has a 'tail' which extends towards the higher values."
   ]
  },
  {
   "cell_type": "code",
   "execution_count": 8,
   "id": "f4bd0300",
   "metadata": {},
   "outputs": [],
   "source": [
    "# distribution of piece_count - check skewness\n",
    "piece_count_without_outliers = df[df['piece_count'] <= 1215.5]"
   ]
  },
  {
   "cell_type": "code",
   "execution_count": 9,
   "id": "d9cb0982",
   "metadata": {},
   "outputs": [
    {
     "data": {
      "text/plain": [
       "<AxesSubplot:xlabel='piece_count', ylabel='Count'>"
      ]
     },
     "execution_count": 9,
     "metadata": {},
     "output_type": "execute_result"
    },
    {
     "data": {
      "image/png": "[encoded data removed]",
      "text/plain": [
       "<Figure size 432x288 with 1 Axes>"
      ]
     },
     "metadata": {
      "needs_background": "light"
     },
     "output_type": "display_data"
    }
   ],
   "source": [
    "sns.histplot(data=piece_count_without_outliers, x=\"piece_count\", binwidth=40)"
   ]
  },
  {
   "cell_type": "markdown",
   "id": "852c8c5b",
   "metadata": {},
   "source": [
    "Piece_count data is right - skewed: A positive skew indicates that more values lie below the mean and the distribution has a 'tail' which extends towards the higher values."
   ]
  },
  {
   "cell_type": "code",
   "execution_count": 10,
   "id": "b31b61a1",
   "metadata": {},
   "outputs": [
    {
     "data": {
      "text/plain": [
       "<AxesSubplot:xlabel='piece_count', ylabel='list_price'>"
      ]
     },
     "execution_count": 10,
     "metadata": {},
     "output_type": "execute_result"
    },
    {
     "data": {
      "image/png": "[encoded data removed]",
      "text/plain": [
       "<Figure size 432x288 with 1 Axes>"
      ]
     },
     "metadata": {
      "needs_background": "light"
     },
     "output_type": "display_data"
    }
   ],
   "source": [
    "# check linearity with a scatterplot \n",
    "sns.scatterplot(x=\"piece_count\", y=\"list_price\", hue=\"ages\", data=piece_count_without_outliers)"
   ]
  },
  {
   "cell_type": "markdown",
   "id": "7548dc1c",
   "metadata": {},
   "source": [
    "There seems to be a positive linear correlation between the two data sets with no specific emphasis on 'age'. "
   ]
  },
  {
   "cell_type": "code",
   "execution_count": 103,
   "id": "7f20f6a8",
   "metadata": {},
   "outputs": [],
   "source": [
    "# Simple Linear Regression"
   ]
  },
  {
   "cell_type": "code",
   "execution_count": 37,
   "id": "622c1ff4",
   "metadata": {},
   "outputs": [],
   "source": [
    "# choose your variables\n",
    "x = df[\"piece_count\"].values.reshape(-1, 1) \n",
    "y = df[\"list_price\"].values "
   ]
  },
  {
   "cell_type": "markdown",
   "id": "ede6a356",
   "metadata": {},
   "source": [
    "Splitting the data before building the model is a general technique used in machine learning that allows data analysts to evaluate the performance of their models. It allows to simulate how a model would perform on new/unseen data. This is helpful on matters of machine learning models to guard against over-fitting:"
   ]
  },
  {
   "cell_type": "code",
   "execution_count": 38,
   "id": "634beb41",
   "metadata": {},
   "outputs": [],
   "source": [
    "# split the data into training = 0.7 and testing = 0.3 subsets\n",
    "x_train, x_test, y_train, y_test = train_test_split(x, y,\n",
    "                                                    test_size=0.3,\n",
    "                                                    random_state=0)"
   ]
  },
  {
   "cell_type": "code",
   "execution_count": 39,
   "id": "fbf94574",
   "metadata": {},
   "outputs": [],
   "source": [
    "# run linear regression\n",
    "lr = LinearRegression()"
   ]
  },
  {
   "cell_type": "code",
   "execution_count": 40,
   "id": "1dd4c910",
   "metadata": {},
   "outputs": [
    {
     "data": {
      "text/html": [
       "<style>#sk-container-id-4 {color: black;background-color: white;}#sk-container-id-4 pre{padding: 0;}#sk-container-id-4 div.sk-toggleable {background-color: white;}#sk-container-id-4 label.sk-toggleable__label {cursor: pointer;display: block;width: 100%;margin-bottom: 0;padding: 0.3em;box-sizing: border-box;text-align: center;}#sk-container-id-4 label.sk-toggleable__label-arrow:before {content: \"▸\";float: left;margin-right: 0.25em;color: #696969;}#sk-container-id-4 label.sk-toggleable__label-arrow:hover:before {color: black;}#sk-container-id-4 div.sk-estimator:hover label.sk-toggleable__label-arrow:before {color: black;}#sk-container-id-4 div.sk-toggleable__content {max-height: 0;max-width: 0;overflow: hidden;text-align: left;background-color: #f0f8ff;}#sk-container-id-4 div.sk-toggleable__content pre {margin: 0.2em;color: black;border-radius: 0.25em;background-color: #f0f8ff;}#sk-container-id-4 input.sk-toggleable__control:checked~div.sk-toggleable__content {max-height: 200px;max-width: 100%;overflow: auto;}#sk-container-id-4 input.sk-toggleable__control:checked~label.sk-toggleable__label-arrow:before {content: \"▾\";}#sk-container-id-4 div.sk-estimator input.sk-toggleable__control:checked~label.sk-toggleable__label {background-color: #d4ebff;}#sk-container-id-4 div.sk-label input.sk-toggleable__control:checked~label.sk-toggleable__label {background-color: #d4ebff;}#sk-container-id-4 input.sk-hidden--visually {border: 0;clip: rect(1px 1px 1px 1px);clip: rect(1px, 1px, 1px, 1px);height: 1px;margin: -1px;overflow: hidden;padding: 0;position: absolute;width: 1px;}#sk-container-id-4 div.sk-estimator {font-family: monospace;background-color: #f0f8ff;border: 1px dotted black;border-radius: 0.25em;box-sizing: border-box;margin-bottom: 0.5em;}#sk-container-id-4 div.sk-estimator:hover {background-color: #d4ebff;}#sk-container-id-4 div.sk-parallel-item::after {content: \"\";width: 100%;border-bottom: 1px solid gray;flex-grow: 1;}#sk-container-id-4 div.sk-label:hover label.sk-toggleable__label {background-color: #d4ebff;}#sk-container-id-4 div.sk-serial::before {content: \"\";position: absolute;border-left: 1px solid gray;box-sizing: border-box;top: 0;bottom: 0;left: 50%;z-index: 0;}#sk-container-id-4 div.sk-serial {display: flex;flex-direction: column;align-items: center;background-color: white;padding-right: 0.2em;padding-left: 0.2em;position: relative;}#sk-container-id-4 div.sk-item {position: relative;z-index: 1;}#sk-container-id-4 div.sk-parallel {display: flex;align-items: stretch;justify-content: center;background-color: white;position: relative;}#sk-container-id-4 div.sk-item::before, #sk-container-id-4 div.sk-parallel-item::before {content: \"\";position: absolute;border-left: 1px solid gray;box-sizing: border-box;top: 0;bottom: 0;left: 50%;z-index: -1;}#sk-container-id-4 div.sk-parallel-item {display: flex;flex-direction: column;z-index: 1;position: relative;background-color: white;}#sk-container-id-4 div.sk-parallel-item:first-child::after {align-self: flex-end;width: 50%;}#sk-container-id-4 div.sk-parallel-item:last-child::after {align-self: flex-start;width: 50%;}#sk-container-id-4 div.sk-parallel-item:only-child::after {width: 0;}#sk-container-id-4 div.sk-dashed-wrapped {border: 1px dashed gray;margin: 0 0.4em 0.5em 0.4em;box-sizing: border-box;padding-bottom: 0.4em;background-color: white;}#sk-container-id-4 div.sk-label label {font-family: monospace;font-weight: bold;display: inline-block;line-height: 1.2em;}#sk-container-id-4 div.sk-label-container {text-align: center;}#sk-container-id-4 div.sk-container {/* jupyter's `normalize.less` sets `[hidden] { display: none; }` but bootstrap.min.css set `[hidden] { display: none !important; }` so we also need the `!important` here to be able to override the default hidden behavior on the sphinx rendered scikit-learn.org. See: https://github.com/scikit-learn/scikit-learn/issues/21755 */display: inline-block !important;position: relative;}#sk-container-id-4 div.sk-text-repr-fallback {display: none;}</style><div id=\"sk-container-id-4\" class=\"sk-top-container\"><div class=\"sk-text-repr-fallback\"><pre>LinearRegression()</pre><b>In a Jupyter environment, please rerun this cell to show the HTML representation or trust the notebook. <br />On GitHub, the HTML representation is unable to render, please try loading this page with nbviewer.org.</b></div><div class=\"sk-container\" hidden><div class=\"sk-item\"><div class=\"sk-estimator sk-toggleable\"><input class=\"sk-toggleable__control sk-hidden--visually\" id=\"sk-estimator-id-4\" type=\"checkbox\" checked><label for=\"sk-estimator-id-4\" class=\"sk-toggleable__label sk-toggleable__label-arrow\">LinearRegression</label><div class=\"sk-toggleable__content\"><pre>LinearRegression()</pre></div></div></div></div></div>"
      ],
      "text/plain": [
       "LinearRegression()"
      ]
     },
     "execution_count": 40,
     "metadata": {},
     "output_type": "execute_result"
    }
   ],
   "source": [
    "# fit the model on the training data\n",
    "lr.fit(x_train, y_train)"
   ]
  },
  {
   "cell_type": "code",
   "execution_count": 41,
   "id": "92ed4bc1",
   "metadata": {},
   "outputs": [
    {
     "data": {
      "image/png": "[encoded data removed]",
      "text/plain": [
       "<Figure size 432x288 with 1 Axes>"
      ]
     },
     "metadata": {
      "needs_background": "light"
     },
     "output_type": "display_data"
    }
   ],
   "source": [
    "# training - Visualization\n",
    "plt.scatter(x_train, y_train, color = \"red\")\n",
    "plt.plot(x_train, lr.predict(x_train), color = \"green\")\n",
    "plt.title(\"No of Lego Pieces in the Product VS Product Price (Training Data)\")\n",
    "plt.xlabel(\"Number of Lego pieces in the product\")\n",
    "plt.ylabel(\"Price of the Lego product ($)\")\n",
    "\n",
    "plt.show()"
   ]
  },
  {
   "cell_type": "code",
   "execution_count": 42,
   "id": "054c5ad8",
   "metadata": {},
   "outputs": [
    {
     "name": "stdout",
     "output_type": "stream",
     "text": [
      "                            OLS Regression Results                            \n",
      "==============================================================================\n",
      "Dep. Variable:                      y   R-squared:                       0.753\n",
      "Model:                            OLS   Adj. R-squared:                  0.753\n",
      "Method:                 Least Squares   F-statistic:                 2.615e+04\n",
      "Date:                Wed, 06 Jul 2022   Prob (F-statistic):               0.00\n",
      "Time:                        03:41:44   Log-Likelihood:                -44880.\n",
      "No. Observations:                8582   AIC:                         8.976e+04\n",
      "Df Residuals:                    8580   BIC:                         8.978e+04\n",
      "Df Model:                           1                                         \n",
      "Covariance Type:            nonrobust                                         \n",
      "==============================================================================\n",
      "                 coef    std err          t      P>|t|      [0.025      0.975]\n",
      "------------------------------------------------------------------------------\n",
      "const         17.6348      0.567     31.077      0.000      16.522      18.747\n",
      "x1             0.0955      0.001    161.699      0.000       0.094       0.097\n",
      "==============================================================================\n",
      "Omnibus:                    10181.162   Durbin-Watson:                   1.994\n",
      "Prob(Omnibus):                  0.000   Jarque-Bera (JB):          1724601.347\n",
      "Skew:                           6.176   Prob(JB):                         0.00\n",
      "Kurtosis:                      71.340   Cond. No.                     1.12e+03\n",
      "==============================================================================\n",
      "\n",
      "Notes:\n",
      "[1] Standard Errors assume that the covariance matrix of the errors is correctly specified.\n",
      "[2] The condition number is large, 1.12e+03. This might indicate that there are\n",
      "strong multicollinearity or other numerical problems.\n"
     ]
    }
   ],
   "source": [
    "# training the model using the 'statsmodel' OLS library\n",
    "model = sm.OLS(y_train, sm.add_constant(x_train)).fit() # fit the model with the added constant \n",
    "Y_pred = model.predict(sm.add_constant(x_train)) # set the predicted response vetor\n",
    "print_model = model.summary() # call a summary of the model\n",
    "\n",
    "print(print_model) # print the summary"
   ]
  },
  {
   "cell_type": "code",
   "execution_count": 43,
   "id": "a33eec1c",
   "metadata": {},
   "outputs": [
    {
     "name": "stdout",
     "output_type": "stream",
     "text": [
      "0.7529271656910888\n"
     ]
    }
   ],
   "source": [
    "# print the R-squared value\n",
    "print(lr.score(x_train,y_train))"
   ]
  },
  {
   "cell_type": "code",
   "execution_count": 44,
   "id": "7d59328c",
   "metadata": {},
   "outputs": [
    {
     "name": "stdout",
     "output_type": "stream",
     "text": [
      "Intercept value:  17.634791702797614\n",
      "Coffecient value:  [0.09553496]\n"
     ]
    }
   ],
   "source": [
    "# print Intercept and Coefficient\n",
    "print(\"Intercept value: \", lr.intercept_)\n",
    "print(\"Coffecient value: \", lr.coef_)"
   ]
  },
  {
   "cell_type": "markdown",
   "id": "63fa37e1",
   "metadata": {},
   "source": [
    "Train data results:\n",
    "\n",
    "This can be interpreted as nearly a strong R-squared value, as it is higher than 0.7, and it explains almost 75% of the dependent variable.\n",
    "\n",
    "Y intercept: the predicted value of y, the dependent variable (Lego prices) when the independent variables each have a zero value.\n",
    "\n",
    "The coefficient value tells us that each additional lego piece is associated with an increase in the product price of $0,1 (10 cent)."
   ]
  },
  {
   "cell_type": "code",
   "execution_count": 58,
   "id": "4ee7286a",
   "metadata": {},
   "outputs": [],
   "source": [
    "# prediction of test set\n",
    "y_pred_lr = lr.predict(x_test)"
   ]
  },
  {
   "cell_type": "markdown",
   "id": "c4e71904",
   "metadata": {},
   "source": [
    "Once we have fitted (trained) the model, we can make predictions using the predict() function. We pass the values of x_test to this method and compare the predicted values called y_pred_lr with y_test values to check how accurate our predicted values are."
   ]
  },
  {
   "cell_type": "code",
   "execution_count": 46,
   "id": "e6f28a99",
   "metadata": {},
   "outputs": [
    {
     "name": "stdout",
     "output_type": "stream",
     "text": [
      "Prediction for test set: [56.99519357 24.22670367 30.81861563 ... 28.62131164 36.83731786\n",
      " 26.61507757]\n"
     ]
    }
   ],
   "source": [
    "# predicted value\n",
    "print(\"Prediction for test set: {}\".format(y_pred_lr))"
   ]
  },
  {
   "cell_type": "code",
   "execution_count": 47,
   "id": "c97f32eb",
   "metadata": {},
   "outputs": [
    {
     "data": {
      "text/plain": [
       "array([77.9922, 13.986 , 19.4922, ..., 24.3878, 24.3878, 25.398 ])"
      ]
     },
     "execution_count": 47,
     "metadata": {},
     "output_type": "execute_result"
    }
   ],
   "source": [
    "# actual value\n",
    "y_test"
   ]
  },
  {
   "cell_type": "code",
   "execution_count": 55,
   "id": "059c272c",
   "metadata": {},
   "outputs": [
    {
     "data": {
      "image/png": "[encoded data removed]",
      "text/plain": [
       "<Figure size 432x288 with 1 Axes>"
      ]
     },
     "metadata": {
      "needs_background": "light"
     },
     "output_type": "display_data"
    }
   ],
   "source": [
    "# testing - Visualisation\n",
    "plt.scatter(x_test, y_test, color = \"red\")  # y_test --> actual value\n",
    "plt.plot(x_test, lr.predict(x_test), color = \"green\")  # lr.predict(x_test) --> predicted value\n",
    "plt.title(\"No of Lego Pieces in the Product VS Product Price (Testing Data)\")\n",
    "plt.xlabel(\"Number of Lego pieces in the product\")\n",
    "plt.ylabel(\"Price of the Lego product ($)\")\n",
    "\n",
    "plt.show()"
   ]
  },
  {
   "cell_type": "code",
   "execution_count": 52,
   "id": "8442acd7",
   "metadata": {},
   "outputs": [
    {
     "data": {
      "text/plain": [
       "21.05813259108558"
      ]
     },
     "execution_count": 52,
     "metadata": {},
     "output_type": "execute_result"
    }
   ],
   "source": [
    "# Mean Absolute Error\n",
    "metrics.mean_absolute_error(y_test, lr.predict(x_test))"
   ]
  },
  {
   "cell_type": "markdown",
   "id": "1113d86b",
   "metadata": {},
   "source": [
    "Mean Absolute Error is the absolute difference between the actual or true values and the predicted values. The lower the value, the better is the model’s performance. A mean absolute error of 0 means that your model is a perfect predictor of the outputs. "
   ]
  },
  {
   "cell_type": "code",
   "execution_count": 56,
   "id": "f3e92e35",
   "metadata": {},
   "outputs": [
    {
     "name": "stdout",
     "output_type": "stream",
     "text": [
      "781.9144717027976\n"
     ]
    }
   ],
   "source": [
    "# Make predictions: price of lego product with 8000 pieces\n",
    "def calc(slope, intercept, lego_pieces):\n",
    "    return slope*lego_pieces+intercept\n",
    "\n",
    "score = calc(0.09553496, 17.634791702797614, 8000)\n",
    "print(score)"
   ]
  },
  {
   "cell_type": "code",
   "execution_count": 61,
   "id": "e34d2688",
   "metadata": {},
   "outputs": [],
   "source": [
    "# Multiple Linear Regression"
   ]
  },
  {
   "cell_type": "code",
   "execution_count": 62,
   "id": "d99257d6",
   "metadata": {},
   "outputs": [],
   "source": [
    "# dependent variable\n",
    "y = df[\"list_price\"] \n",
    "\n",
    "# independent variable\n",
    "X = df[[\"piece_count\", \"ages\"]] "
   ]
  },
  {
   "cell_type": "code",
   "execution_count": 63,
   "id": "c7c83d46",
   "metadata": {},
   "outputs": [],
   "source": [
    "# create train and test data sets\n",
    "x_train, x_test, y_train, y_test = train_test_split(X, y, test_size=0.3, random_state=5)"
   ]
  },
  {
   "cell_type": "code",
   "execution_count": 64,
   "id": "071f3b90",
   "metadata": {},
   "outputs": [
    {
     "data": {
      "text/html": [
       "<style>#sk-container-id-6 {color: black;background-color: white;}#sk-container-id-6 pre{padding: 0;}#sk-container-id-6 div.sk-toggleable {background-color: white;}#sk-container-id-6 label.sk-toggleable__label {cursor: pointer;display: block;width: 100%;margin-bottom: 0;padding: 0.3em;box-sizing: border-box;text-align: center;}#sk-container-id-6 label.sk-toggleable__label-arrow:before {content: \"▸\";float: left;margin-right: 0.25em;color: #696969;}#sk-container-id-6 label.sk-toggleable__label-arrow:hover:before {color: black;}#sk-container-id-6 div.sk-estimator:hover label.sk-toggleable__label-arrow:before {color: black;}#sk-container-id-6 div.sk-toggleable__content {max-height: 0;max-width: 0;overflow: hidden;text-align: left;background-color: #f0f8ff;}#sk-container-id-6 div.sk-toggleable__content pre {margin: 0.2em;color: black;border-radius: 0.25em;background-color: #f0f8ff;}#sk-container-id-6 input.sk-toggleable__control:checked~div.sk-toggleable__content {max-height: 200px;max-width: 100%;overflow: auto;}#sk-container-id-6 input.sk-toggleable__control:checked~label.sk-toggleable__label-arrow:before {content: \"▾\";}#sk-container-id-6 div.sk-estimator input.sk-toggleable__control:checked~label.sk-toggleable__label {background-color: #d4ebff;}#sk-container-id-6 div.sk-label input.sk-toggleable__control:checked~label.sk-toggleable__label {background-color: #d4ebff;}#sk-container-id-6 input.sk-hidden--visually {border: 0;clip: rect(1px 1px 1px 1px);clip: rect(1px, 1px, 1px, 1px);height: 1px;margin: -1px;overflow: hidden;padding: 0;position: absolute;width: 1px;}#sk-container-id-6 div.sk-estimator {font-family: monospace;background-color: #f0f8ff;border: 1px dotted black;border-radius: 0.25em;box-sizing: border-box;margin-bottom: 0.5em;}#sk-container-id-6 div.sk-estimator:hover {background-color: #d4ebff;}#sk-container-id-6 div.sk-parallel-item::after {content: \"\";width: 100%;border-bottom: 1px solid gray;flex-grow: 1;}#sk-container-id-6 div.sk-label:hover label.sk-toggleable__label {background-color: #d4ebff;}#sk-container-id-6 div.sk-serial::before {content: \"\";position: absolute;border-left: 1px solid gray;box-sizing: border-box;top: 0;bottom: 0;left: 50%;z-index: 0;}#sk-container-id-6 div.sk-serial {display: flex;flex-direction: column;align-items: center;background-color: white;padding-right: 0.2em;padding-left: 0.2em;position: relative;}#sk-container-id-6 div.sk-item {position: relative;z-index: 1;}#sk-container-id-6 div.sk-parallel {display: flex;align-items: stretch;justify-content: center;background-color: white;position: relative;}#sk-container-id-6 div.sk-item::before, #sk-container-id-6 div.sk-parallel-item::before {content: \"\";position: absolute;border-left: 1px solid gray;box-sizing: border-box;top: 0;bottom: 0;left: 50%;z-index: -1;}#sk-container-id-6 div.sk-parallel-item {display: flex;flex-direction: column;z-index: 1;position: relative;background-color: white;}#sk-container-id-6 div.sk-parallel-item:first-child::after {align-self: flex-end;width: 50%;}#sk-container-id-6 div.sk-parallel-item:last-child::after {align-self: flex-start;width: 50%;}#sk-container-id-6 div.sk-parallel-item:only-child::after {width: 0;}#sk-container-id-6 div.sk-dashed-wrapped {border: 1px dashed gray;margin: 0 0.4em 0.5em 0.4em;box-sizing: border-box;padding-bottom: 0.4em;background-color: white;}#sk-container-id-6 div.sk-label label {font-family: monospace;font-weight: bold;display: inline-block;line-height: 1.2em;}#sk-container-id-6 div.sk-label-container {text-align: center;}#sk-container-id-6 div.sk-container {/* jupyter's `normalize.less` sets `[hidden] { display: none; }` but bootstrap.min.css set `[hidden] { display: none !important; }` so we also need the `!important` here to be able to override the default hidden behavior on the sphinx rendered scikit-learn.org. See: https://github.com/scikit-learn/scikit-learn/issues/21755 */display: inline-block !important;position: relative;}#sk-container-id-6 div.sk-text-repr-fallback {display: none;}</style><div id=\"sk-container-id-6\" class=\"sk-top-container\"><div class=\"sk-text-repr-fallback\"><pre>LinearRegression()</pre><b>In a Jupyter environment, please rerun this cell to show the HTML representation or trust the notebook. <br />On GitHub, the HTML representation is unable to render, please try loading this page with nbviewer.org.</b></div><div class=\"sk-container\" hidden><div class=\"sk-item\"><div class=\"sk-estimator sk-toggleable\"><input class=\"sk-toggleable__control sk-hidden--visually\" id=\"sk-estimator-id-6\" type=\"checkbox\" checked><label for=\"sk-estimator-id-6\" class=\"sk-toggleable__label sk-toggleable__label-arrow\">LinearRegression</label><div class=\"sk-toggleable__content\"><pre>LinearRegression()</pre></div></div></div></div></div>"
      ],
      "text/plain": [
       "LinearRegression()"
      ]
     },
     "execution_count": 64,
     "metadata": {},
     "output_type": "execute_result"
    }
   ],
   "source": [
    "multi = LinearRegression()  \n",
    "multi.fit(x_train, y_train)"
   ]
  },
  {
   "cell_type": "code",
   "execution_count": 74,
   "id": "f27db8b9",
   "metadata": {},
   "outputs": [
    {
     "name": "stdout",
     "output_type": "stream",
     "text": [
      "R-squared:  0.7681985466459664\n",
      "Intercept:  16.98559674920356\n",
      "Coefficients:\n"
     ]
    },
    {
     "data": {
      "text/plain": [
       "[('piece_count', 0.09569755116044477), ('ages', 0.02987278094702085)]"
      ]
     },
     "execution_count": 74,
     "metadata": {},
     "output_type": "execute_result"
    }
   ],
   "source": [
    "# Checking the value of R-squared, intercept and coefficients\n",
    "print(\"R-squared: \", multi.score(x_train, y_train))\n",
    "print(\"Intercept: \", multi.intercept_)\n",
    "print(\"Coefficients:\")\n",
    "list(zip(x_train, multi.coef_))"
   ]
  },
  {
   "cell_type": "markdown",
   "id": "4b3e5ece",
   "metadata": {},
   "source": [
    "R squared: it represents the proportion of the variation in the dependent variable, which can be explained by the independent variables in our model. Roughly 77% of the variation in Lego prices can be explained using this data set with pieces and ages variables.\n",
    "\n",
    "Y intercept: the predicted value of y, the dependent variable (Lego prices) when the independent variables each have a zero value.\n",
    "\n",
    "Coefficients: 0.0957 would be the increase in the value of a Lego product with that additional piece. \n",
    "0.02987 would be the increase in the value of a Lego product with that additional age. These coefficients represent the sensitivity of the dependent variable to unit changes in the respective independent variable.  "
   ]
  },
  {
   "cell_type": "code",
   "execution_count": 68,
   "id": "a1daa76b",
   "metadata": {},
   "outputs": [
    {
     "name": "stdout",
     "output_type": "stream",
     "text": [
      "                            OLS Regression Results                            \n",
      "==============================================================================\n",
      "Dep. Variable:             list_price   R-squared:                       0.768\n",
      "Model:                            OLS   Adj. R-squared:                  0.768\n",
      "Method:                 Least Squares   F-statistic:                 1.422e+04\n",
      "Date:                Wed, 06 Jul 2022   Prob (F-statistic):               0.00\n",
      "Time:                        04:18:30   Log-Likelihood:                -44428.\n",
      "No. Observations:                8582   AIC:                         8.886e+04\n",
      "Df Residuals:                    8579   BIC:                         8.888e+04\n",
      "Df Model:                           2                                         \n",
      "Covariance Type:            nonrobust                                         \n",
      "===============================================================================\n",
      "                  coef    std err          t      P>|t|      [0.025      0.975]\n",
      "-------------------------------------------------------------------------------\n",
      "const          16.9856      1.107     15.341      0.000      14.815      19.156\n",
      "piece_count     0.0957      0.001    167.909      0.000       0.095       0.097\n",
      "ages            0.0299      0.056      0.530      0.596      -0.081       0.140\n",
      "==============================================================================\n",
      "Omnibus:                     9842.577   Durbin-Watson:                   1.962\n",
      "Prob(Omnibus):                  0.000   Jarque-Bera (JB):          1530257.494\n",
      "Skew:                           5.830   Prob(JB):                         0.00\n",
      "Kurtosis:                      67.370   Cond. No.                     2.28e+03\n",
      "==============================================================================\n",
      "\n",
      "Notes:\n",
      "[1] Standard Errors assume that the covariance matrix of the errors is correctly specified.\n",
      "[2] The condition number is large, 2.28e+03. This might indicate that there are\n",
      "strong multicollinearity or other numerical problems.\n"
     ]
    }
   ],
   "source": [
    "# training the model using the 'statsmodel' OLS library\n",
    "model = sm.OLS(y_train, sm.add_constant(x_train)).fit() # fit the model with the added constant \n",
    "Y_pred = model.predict(sm.add_constant(x_train)) # set the predicted response vector\n",
    "print_model = model.summary() # call a summary of the model\n",
    "\n",
    "print(print_model) # print the summary"
   ]
  },
  {
   "cell_type": "markdown",
   "id": "d492b62a",
   "metadata": {},
   "source": [
    "the standard error: basically the smaller, the better. So small standard errors mean precise estimates of these parameters\n",
    "\n",
    "T (test) statistics: these are computed as the estimated coefficient divided by its corresponding standard error. T statistics can be used to test the statistical significance of our two independent variables. The smaller the standard error, i.e. the more precise the perimeter estimates are, then other things equal, the larger the T values would be. \n",
    "\n",
    "P values: the probability of the test statistic value or a more extreme value. There's an inverse relationship between the T value and the P value. We interpret P values by comparing them to a significant level 5%. P value for the 'ages' variable is greater than 0.05.  \n",
    "\n",
    "confidence interval: When we check the confidence interval for 'ages', we see that the interval includes zero, which is consistent with our doubt in rejection of the null hypothesis in this case (The null hypothesis states that all coefficients in the model are equal to zero). We can conclude that the true coefficient of 'ages' variable is equal to zero. 'Ages' variable do not have a statistically significant relationship with the response variable (price).  "
   ]
  },
  {
   "cell_type": "code",
   "execution_count": 69,
   "id": "336dd712",
   "metadata": {},
   "outputs": [],
   "source": [
    "# prediction of test set\n",
    "y_pred_multi = multi.predict(x_test)"
   ]
  },
  {
   "cell_type": "markdown",
   "id": "6b5870df",
   "metadata": {},
   "source": [
    "Once we have fitted (trained) the model, we can make predictions using the predict() function. We pass the values of x_test to this method and compare the predicted values called y_pred_lr with y_test values to check how accurate our predicted values are."
   ]
  },
  {
   "cell_type": "code",
   "execution_count": 70,
   "id": "3a666e31",
   "metadata": {},
   "outputs": [
    {
     "name": "stdout",
     "output_type": "stream",
     "text": [
      "Prediction for test set: [ 70.24049908 147.63046845  28.37916128 ...  18.21142729  77.07705641\n",
      "  69.82175689]\n"
     ]
    }
   ],
   "source": [
    "# predicted value\n",
    "print(\"Prediction for test set: {}\".format(y_pred_multi))"
   ]
  },
  {
   "cell_type": "code",
   "execution_count": 71,
   "id": "b126e17c",
   "metadata": {},
   "outputs": [
    {
     "data": {
      "text/plain": [
       "5383      65.8800\n",
       "11481    179.7971\n",
       "4192      23.9520\n",
       "2992     101.3922\n",
       "5767      48.7878\n",
       "           ...   \n",
       "9180      85.3878\n",
       "3814      40.6980\n",
       "2872       3.8922\n",
       "6366      97.5390\n",
       "9328      67.0878\n",
       "Name: list_price, Length: 3679, dtype: float64"
      ]
     },
     "execution_count": 71,
     "metadata": {},
     "output_type": "execute_result"
    }
   ],
   "source": [
    "# actual value\n",
    "y_test"
   ]
  },
  {
   "cell_type": "code",
   "execution_count": 72,
   "id": "56d71fef",
   "metadata": {},
   "outputs": [
    {
     "data": {
      "text/plain": [
       "21.636188032626283"
      ]
     },
     "execution_count": 72,
     "metadata": {},
     "output_type": "execute_result"
    }
   ],
   "source": [
    "# Mean Absolute Error\n",
    "metrics.mean_absolute_error(y_test, multi.predict(x_test))"
   ]
  },
  {
   "cell_type": "markdown",
   "id": "fd759613",
   "metadata": {},
   "source": [
    "Mean Absolute Error is the absolute difference between the actual or true values and the predicted values. The lower the value, the better is the model’s performance. A mean absolute error of 0 means that your model is a perfect predictor of the outputs. "
   ]
  },
  {
   "cell_type": "code",
   "execution_count": 73,
   "id": "c581a8a4",
   "metadata": {},
   "outputs": [
    {
     "name": "stdout",
     "output_type": "stream",
     "text": [
      "Predicted Value: \n",
      " [783.43231668]\n"
     ]
    },
    {
     "name": "stderr",
     "output_type": "stream",
     "text": [
      "C:\\Users\\murat\\anaconda3\\lib\\site-packages\\sklearn\\base.py:450: UserWarning: X does not have valid feature names, but LinearRegression was fitted with feature names\n",
      "  warnings.warn(\n"
     ]
    }
   ],
   "source": [
    "# Make predictions: price of lego product with 8000 pieces that are most likely to be purchased by 30 year olds\n",
    "New_Value1 = 8000\n",
    "New_Value2 = 29\n",
    "print ('Predicted Value: \\n', multi.predict([[New_Value1 ,New_Value2]]))  "
   ]
  },
  {
   "cell_type": "markdown",
   "id": "0b013a30",
   "metadata": {},
   "source": [
    "If we were looking at a lego set with these attributes, these characteristics, then there is the predicted value. "
   ]
  },
  {
   "cell_type": "markdown",
   "id": "077b89d8",
   "metadata": {},
   "source": [
    "Conclusion: number of lego pieces have a statistically significant relationship with the lego price. Age variable doesn't contribute much in explaining the price differences. Other variables (such as rating) can be added to the model and tested for significance.  "
   ]
  },
  {
   "cell_type": "code",
   "execution_count": null,
   "id": "26987891",
   "metadata": {},
   "outputs": [],
   "source": []
  }
 ],
 "metadata": {
  "kernelspec": {
   "display_name": "Python 3 (ipykernel)",
   "language": "python",
   "name": "python3"
  },
  "language_info": {
   "codemirror_mode": {
    "name": "ipython",
    "version": 3
   },
   "file_extension": ".py",
   "mimetype": "text/x-python",
   "name": "python",
   "nbconvert_exporter": "python",
   "pygments_lexer": "ipython3",
   "version": "3.8.5"
  }
 },
 "nbformat": 4,
 "nbformat_minor": 5
}
